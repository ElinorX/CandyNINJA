{
 "cells": [
  {
   "cell_type": "code",
   "execution_count": 1,
   "metadata": {
    "scrolled": true
   },
   "outputs": [
    {
     "name": "stdout",
     "output_type": "stream",
     "text": [
      "pygame 2.1.2 (SDL 2.0.18, Python 3.9.12)\n",
      "Hello from the pygame community. https://www.pygame.org/contribute.html\n"
     ]
    }
   ],
   "source": [
    "import pygame, sys\n",
    "import os\n",
    "import random"
   ]
  },
  {
   "cell_type": "code",
   "execution_count": 2,
   "metadata": {},
   "outputs": [],
   "source": [
    "player_lives = 3  # chances \n",
    "score = 0  # initial value\n",
    "# list to store image of candy and bomb\n",
    "candy = ['C1', 'C2', 'C3', 'C4', 'C5','bomb']  "
   ]
  },
  {
   "cell_type": "code",
   "execution_count": 3,
   "metadata": {},
   "outputs": [],
   "source": [
    "WIDTH = 800\n",
    "HEIGHT = 500\n",
    "# how many frame per second you want the game to display\n",
    "FPS = 12   \n",
    "#define the size of Candy image\n",
    "Candy_WIDTH, Candy_HEIGHT = 80, 80 \n",
    "pygame.init()\n",
    "# title\n",
    "pygame.display.set_caption('Final Project Scaffold')  \n",
    "# display window\n",
    "gameDisplay = pygame.display.set_mode((WIDTH, HEIGHT))\n",
    "clock = pygame.time.Clock()"
   ]
  },
  {
   "cell_type": "code",
   "execution_count": 4,
   "metadata": {},
   "outputs": [],
   "source": [
    "# define color \n",
    "WHITE = (255, 255, 255)\n",
    "BLACK = (0, 0, 0)\n",
    "RED = (255, 0, 0)\n",
    "GREEN = (0, 255, 0)\n",
    "BABY_BLUE = (137, 207, 250)"
   ]
  },
  {
   "cell_type": "code",
   "execution_count": 5,
   "metadata": {},
   "outputs": [],
   "source": [
    "# backgroud\n",
    "background = pygame.transform.scale(pygame.image.load('Backgroud-1.jpeg'), (WIDTH, HEIGHT))\n",
    "# font\n",
    "font = pygame.font.Font(os.path.join(os.getcwd(), 'comic copy.ttf'), 42)  \n",
    "score_text = font.render('Score : ' + str(score), True, (255, 255, 255))  "
   ]
  },
  {
   "cell_type": "code",
   "execution_count": 6,
   "metadata": {},
   "outputs": [],
   "source": [
    "# randomly generated candys' position and store the data\n",
    "def generate_random_candy(candy):\n",
    "    #candy_path = \"images/\" + candy + \".png\"\n",
    "    candy_path =  candy + \".png\"\n",
    "    data[candy] = {\n",
    "        'img': pygame.transform.scale(pygame.image.load(candy_path),(Candy_WIDTH, Candy_HEIGHT)),\n",
    "        # candy position \n",
    "        'x': random.randint(100, 500),  \n",
    "        'y': 800,\n",
    "        # speed \n",
    "        'speed_x': random.randint(-10, 10),  \n",
    "        'speed_y': random.randint(-80, -60), \n",
    "        # avoid generating the candy outside of rectangle\n",
    "        'throw': False, \n",
    "        't': 0,\n",
    "        'hit': False,\n",
    "    }\n",
    "    # keep candy showing on the screen while the game is still running\n",
    "    if random.random() >= 0.75:  \n",
    "        data[candy]['throw'] = True\n",
    "    else:\n",
    "        data[candy]['throw'] = False"
   ]
  },
  {
   "cell_type": "code",
   "execution_count": 7,
   "metadata": {},
   "outputs": [],
   "source": [
    "# store the data\n",
    "data = {}\n",
    "for candy in candy:\n",
    "    generate_random_candy(candy)"
   ]
  },
  {
   "cell_type": "code",
   "execution_count": 8,
   "metadata": {},
   "outputs": [],
   "source": [
    "def hide_cross_lives(x, y):\n",
    "    gameDisplay.blit(pygame.image.load(\"white_lives copy.png\"), (x, y))"
   ]
  },
  {
   "cell_type": "code",
   "execution_count": 9,
   "metadata": {},
   "outputs": [],
   "source": [
    "font_name = pygame.font.match_font('comic copy.ttf')"
   ]
  },
  {
   "cell_type": "code",
   "execution_count": 10,
   "metadata": {},
   "outputs": [],
   "source": [
    "# function to draw the text \n",
    "def draw_text(display, text, size, x, y):\n",
    "    font = pygame.font.Font(font_name, size)\n",
    "    text_surface = font.render(text, True, BABY_BLUE)\n",
    "    text_rect = text_surface.get_rect()\n",
    "    text_rect.midtop = (x, y)\n",
    "    gameDisplay.blit(text_surface, text_rect)"
   ]
  },
  {
   "cell_type": "code",
   "execution_count": 11,
   "metadata": {},
   "outputs": [],
   "source": [
    "# function to display how many chances you have before game is over\n",
    "def draw_lives(display, x, y, lives, image):\n",
    "    for i in range(lives):\n",
    "        img = pygame.image.load(image)\n",
    "        img_rect = img.get_rect()\n",
    "        img_rect.x = int(x + 35 * i)\n",
    "        img_rect.y = y\n",
    "        display.blit(img, img_rect)"
   ]
  },
  {
   "cell_type": "code",
   "execution_count": 12,
   "metadata": {},
   "outputs": [],
   "source": [
    "# function to draw the start and end of the game \n",
    "def show_gameover_screen():\n",
    "    gameDisplay.blit(background, (0, 0))\n",
    "    draw_text(gameDisplay, \"CANDY NINJA!\", 90, WIDTH / 2, HEIGHT / 4)\n",
    "    if not game_over:\n",
    "        draw_text(gameDisplay, \"Score : \" + str(score), 50, WIDTH / 2, HEIGHT / 2)\n",
    "    draw_text(gameDisplay, \"Press any key to start the game\", 64, WIDTH / 2, HEIGHT * 3 / 4)\n",
    "    pygame.display.flip()\n",
    "    waiting = True\n",
    "    while waiting:\n",
    "        clock.tick(FPS)\n",
    "        for event in pygame.event.get():\n",
    "            if event.type == pygame.QUIT:\n",
    "                pygame.quit()\n",
    "            if event.type == pygame.KEYUP:\n",
    "                waiting = False"
   ]
  },
  {
   "cell_type": "code",
   "execution_count": 13,
   "metadata": {},
   "outputs": [],
   "source": [
    "first_round = True\n",
    "# if the player cut 3 more bomb, game over, we end the loop\n",
    "game_over = True  \n",
    "# keep check the loop\n",
    "game_running = True  \n",
    "while game_running:\n",
    "    if game_over:\n",
    "        if first_round:\n",
    "            show_gameover_screen()\n",
    "            first_round = False\n",
    "        game_over = False\n",
    "        player_lives = 3\n",
    "        draw_lives(gameDisplay, 690, 5, player_lives, 'white_lives copy.png')\n",
    "        score = 0\n",
    "    for event in pygame.event.get():\n",
    "        if event.type == pygame.QUIT:\n",
    "            game_running = False\n",
    "    gameDisplay.blit(background, (0, 0))\n",
    "    gameDisplay.blit(score_text, (0, 0))\n",
    "    draw_lives(gameDisplay, 690, 5, player_lives, 'white_lives copy.png')\n",
    "    for key, value in data.items():\n",
    "        if value['throw']:\n",
    "            # moving candy postition\n",
    "            value['x'] += value['speed_x']  \n",
    "            value['y'] += value['speed_y']  \n",
    "            value['speed_y'] += (1 * value['t'])  \n",
    "            value['t'] += 1\n",
    "            if value['y'] <= 800:\n",
    "                # display the candy\n",
    "                gameDisplay.blit(value['img'], (value['x'], value['y']))  \n",
    "            else:\n",
    "                generate_random_candy(key)\n",
    "                # get the position of mouse \n",
    "            current_position = pygame.mouse.get_pos()  \n",
    "            if not value['hit'] and current_position[0] > value['x'] and current_position[0] < value['x'] + 60 \\\n",
    "                    and current_position[1] > value['y'] and current_position[1] < value['y'] + 60:\n",
    "                if key == 'bomb':\n",
    "                    player_lives -= 1\n",
    "                    if player_lives == 0:\n",
    "                        hide_cross_lives(690, 15)\n",
    "                    elif player_lives == 1:\n",
    "                        hide_cross_lives(725, 15)\n",
    "                    elif player_lives == 2:\n",
    "                        hide_cross_lives(760, 15)\n",
    "                    # end the game and go back to the original start window \n",
    "                    if player_lives < 0:\n",
    "                        show_gameover_screen()\n",
    "                        game_over = True\n",
    "                    half_candy_path = \"explosion copy.png\"\n",
    "                else:\n",
    "                    # half_candy_path = \"images/\" + \"half_\" + key + \".png\"\n",
    "                    half_candy_path = key+ \"_half\" + \".png\"\n",
    "                value['img'] = pygame.transform.scale(pygame.image.load(half_candy_path),(Candy_WIDTH, Candy_HEIGHT))\n",
    "                value['speed_x'] += 10\n",
    "                if key != 'bomb':\n",
    "                    score += 1\n",
    "                score_text = font.render('Score : ' + str(score), True, (255, 255, 255))\n",
    "                value['hit'] = True\n",
    "        else:\n",
    "            generate_random_candy(key)\n",
    "    pygame.display.update()\n",
    "    clock.tick(FPS)"
   ]
  },
  {
   "cell_type": "code",
   "execution_count": null,
   "metadata": {},
   "outputs": [],
   "source": [
    "pygame.quit()"
   ]
  },
  {
   "cell_type": "code",
   "execution_count": null,
   "metadata": {},
   "outputs": [],
   "source": [
    "# make sure we only running the game if we run the main function directly \n",
    "# not from other file \n",
    "if __name__ == \"__main__\":\n",
    "    main()"
   ]
  },
  {
   "cell_type": "code",
   "execution_count": null,
   "metadata": {},
   "outputs": [],
   "source": []
  }
 ],
 "metadata": {
  "kernelspec": {
   "display_name": "Python 3 (ipykernel)",
   "language": "python",
   "name": "python3"
  },
  "language_info": {
   "codemirror_mode": {
    "name": "ipython",
    "version": 3
   },
   "file_extension": ".py",
   "mimetype": "text/x-python",
   "name": "python",
   "nbconvert_exporter": "python",
   "pygments_lexer": "ipython3",
   "version": "3.9.12"
  },
  "toc": {
   "base_numbering": 1,
   "nav_menu": {},
   "number_sections": true,
   "sideBar": true,
   "skip_h1_title": false,
   "title_cell": "Table of Contents",
   "title_sidebar": "Contents",
   "toc_cell": false,
   "toc_position": {},
   "toc_section_display": true,
   "toc_window_display": true
  }
 },
 "nbformat": 4,
 "nbformat_minor": 2
}
